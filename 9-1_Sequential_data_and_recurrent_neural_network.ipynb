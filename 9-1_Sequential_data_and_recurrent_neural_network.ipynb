{
 "cells": [
  {
   "cell_type": "markdown",
   "id": "79083fb4",
   "metadata": {},
   "source": [
    "## Sequential Data or Time Series Data\n",
    "\n",
    "Sequential data or time series data is the meaningful sequence data \n",
    "\n",
    "Feedforward neural network (FFNN) = network that flows only forward\n",
    "\n",
    "e.g. Convolution neural network, Complete connected neural network"
   ]
  },
  {
   "cell_type": "markdown",
   "id": "62379da6",
   "metadata": {},
   "source": [
    "## Recurrent Neural Network\n",
    "\n",
    "timestep = one step that process the sample\n",
    "\n",
    "cell = a layer of neural network in reccurent neural network\n",
    "\n",
    "hidden state = even though there are lots of neurons in a cell, not expressing the all neuron, instead express in one cell $\\to$ usually hyperbolic tangent ($tan^2h$) is used as activate function"
   ]
  },
  {
   "cell_type": "markdown",
   "id": "3c3a6a64",
   "metadata": {},
   "source": [
    "## Weight and In-output of Cell\n",
    "\n",
    "the number of model parameter = $w_x + w_h$ + intercept = 12 + 9 + 3 = 24"
   ]
  }
 ],
 "metadata": {
  "kernelspec": {
   "display_name": "Python 3 (ipykernel)",
   "language": "python",
   "name": "python3"
  },
  "language_info": {
   "codemirror_mode": {
    "name": "ipython",
    "version": 3
   },
   "file_extension": ".py",
   "mimetype": "text/x-python",
   "name": "python",
   "nbconvert_exporter": "python",
   "pygments_lexer": "ipython3",
   "version": "3.9.12"
  }
 },
 "nbformat": 4,
 "nbformat_minor": 5
}
