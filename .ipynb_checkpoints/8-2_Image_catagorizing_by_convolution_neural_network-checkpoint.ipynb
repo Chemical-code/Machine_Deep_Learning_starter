{
 "cells": [
  {
   "cell_type": "code",
   "execution_count": 2,
   "metadata": {
    "colab": {
     "base_uri": "https://localhost:8080/"
    },
    "executionInfo": {
     "elapsed": 5007,
     "status": "ok",
     "timestamp": 1656165109657,
     "user": {
      "displayName": "Jaeseok Lee",
      "userId": "18224174844652526077"
     },
     "user_tz": -540
    },
    "id": "T4AhHUBABxLR",
    "outputId": "748f6517-fb72-441d-e7df-3899ea1862b6"
   },
   "outputs": [],
   "source": [
    "from tensorflow import keras\n",
    "from sklearn.model_selection import train_test_split\n",
    "(train_input, train_target), (test_input, test_target) = keras.datasets.fashion_mnist.load_data()\n",
    "train_scaled = train_input.reshape(-1, 28, 28, 1) / 255.0\n",
    "train_scaled, val_scaled, train_target, val_target, = train_test_split(train_scaled, train_target, test_size=0.2, random_state=42)"
   ]
  },
  {
   "cell_type": "code",
   "execution_count": 3,
   "metadata": {
    "executionInfo": {
     "elapsed": 4183,
     "status": "ok",
     "timestamp": 1656165113836,
     "user": {
      "displayName": "Jaeseok Lee",
      "userId": "18224174844652526077"
     },
     "user_tz": -540
    },
    "id": "B1MXkYKcCtGH"
   },
   "outputs": [],
   "source": [
    "model = keras.Sequential()\n",
    "model.add(keras.layers.Conv2D(32, kernel_size=3, activation='relu', padding='same', input_shape=(28,28,1)))"
   ]
  },
  {
   "cell_type": "code",
   "execution_count": 4,
   "metadata": {
    "executionInfo": {
     "elapsed": 23,
     "status": "ok",
     "timestamp": 1656165113837,
     "user": {
      "displayName": "Jaeseok Lee",
      "userId": "18224174844652526077"
     },
     "user_tz": -540
    },
    "id": "F9QdhrKpDPZu"
   },
   "outputs": [],
   "source": [
    "model.add(keras.layers.MaxPooling2D(2))"
   ]
  },
  {
   "cell_type": "code",
   "execution_count": 5,
   "metadata": {
    "executionInfo": {
     "elapsed": 22,
     "status": "ok",
     "timestamp": 1656165113837,
     "user": {
      "displayName": "Jaeseok Lee",
      "userId": "18224174844652526077"
     },
     "user_tz": -540
    },
    "id": "35PoHAKqEGNh"
   },
   "outputs": [],
   "source": [
    "model.add(keras.layers.Conv2D(64, kernel_size=3, activation='relu', padding='same'))\n",
    "model.add(keras.layers.MaxPooling2D(2))"
   ]
  },
  {
   "cell_type": "code",
   "execution_count": 6,
   "metadata": {
    "executionInfo": {
     "elapsed": 22,
     "status": "ok",
     "timestamp": 1656165113837,
     "user": {
      "displayName": "Jaeseok Lee",
      "userId": "18224174844652526077"
     },
     "user_tz": -540
    },
    "id": "LTM0RQrCEXTv"
   },
   "outputs": [],
   "source": [
    "model.add(keras.layers.Flatten())\n",
    "model.add(keras.layers.Dense(100, activation='relu'))\n",
    "model.add(keras.layers.Dropout(0.4))\n",
    "model.add(keras.layers.Dense(10, activation='softmax'))"
   ]
  },
  {
   "cell_type": "code",
   "execution_count": 7,
   "metadata": {
    "colab": {
     "base_uri": "https://localhost:8080/"
    },
    "executionInfo": {
     "elapsed": 22,
     "status": "ok",
     "timestamp": 1656165113838,
     "user": {
      "displayName": "Jaeseok Lee",
      "userId": "18224174844652526077"
     },
     "user_tz": -540
    },
    "id": "yc9zU8jxEtq2",
    "outputId": "c0e9e405-c79b-4091-f082-3b566a6ad1a0"
   },
   "outputs": [
    {
     "name": "stdout",
     "output_type": "stream",
     "text": [
      "Model: \"sequential\"\n",
      "_________________________________________________________________\n",
      " Layer (type)                Output Shape              Param #   \n",
      "=================================================================\n",
      " conv2d (Conv2D)             (None, 28, 28, 32)        320       \n",
      "                                                                 \n",
      " max_pooling2d (MaxPooling2D  (None, 14, 14, 32)       0         \n",
      " )                                                               \n",
      "                                                                 \n",
      " conv2d_1 (Conv2D)           (None, 14, 14, 64)        18496     \n",
      "                                                                 \n",
      " max_pooling2d_1 (MaxPooling  (None, 7, 7, 64)         0         \n",
      " 2D)                                                             \n",
      "                                                                 \n",
      " flatten (Flatten)           (None, 3136)              0         \n",
      "                                                                 \n",
      " dense (Dense)               (None, 100)               313700    \n",
      "                                                                 \n",
      " dropout (Dropout)           (None, 100)               0         \n",
      "                                                                 \n",
      " dense_1 (Dense)             (None, 10)                1010      \n",
      "                                                                 \n",
      "=================================================================\n",
      "Total params: 333,526\n",
      "Trainable params: 333,526\n",
      "Non-trainable params: 0\n",
      "_________________________________________________________________\n"
     ]
    }
   ],
   "source": [
    "model.summary()"
   ]
  },
  {
   "cell_type": "code",
   "execution_count": 8,
   "metadata": {
    "colab": {
     "base_uri": "https://localhost:8080/",
     "height": 856
    },
    "executionInfo": {
     "elapsed": 346,
     "status": "ok",
     "timestamp": 1656165114167,
     "user": {
      "displayName": "Jaeseok Lee",
      "userId": "18224174844652526077"
     },
     "user_tz": -540
    },
    "id": "uiGS5IXiEv0c",
    "outputId": "f6f3b81d-b97c-4e90-8d6e-d2e1e8b12e27"
   },
   "outputs": [
    {
     "name": "stdout",
     "output_type": "stream",
     "text": [
      "You must install pydot (`pip install pydot`) and install graphviz (see instructions at https://graphviz.gitlab.io/download/) for plot_model to work.\n"
     ]
    }
   ],
   "source": [
    "keras.utils.plot_model(model)"
   ]
  },
  {
   "cell_type": "code",
   "execution_count": 9,
   "metadata": {
    "colab": {
     "base_uri": "https://localhost:8080/",
     "height": 976
    },
    "executionInfo": {
     "elapsed": 656,
     "status": "ok",
     "timestamp": 1656165114819,
     "user": {
      "displayName": "Jaeseok Lee",
      "userId": "18224174844652526077"
     },
     "user_tz": -540
    },
    "id": "55RSi8KWE-Rm",
    "outputId": "1d43e677-5ede-48fe-9b3c-b4e44cb7e955"
   },
   "outputs": [
    {
     "name": "stdout",
     "output_type": "stream",
     "text": [
      "You must install pydot (`pip install pydot`) and install graphviz (see instructions at https://graphviz.gitlab.io/download/) for plot_model to work.\n"
     ]
    }
   ],
   "source": [
    "keras.utils.plot_model(model, show_shapes=True)"
   ]
  },
  {
   "cell_type": "code",
   "execution_count": 10,
   "metadata": {
    "colab": {
     "base_uri": "https://localhost:8080/"
    },
    "executionInfo": {
     "elapsed": 65710,
     "status": "ok",
     "timestamp": 1656165180527,
     "user": {
      "displayName": "Jaeseok Lee",
      "userId": "18224174844652526077"
     },
     "user_tz": -540
    },
    "id": "yOsuqEoUFDTk",
    "outputId": "6ed27c19-dad4-40a3-df35-45e1ddaed79d"
   },
   "outputs": [
    {
     "name": "stdout",
     "output_type": "stream",
     "text": [
      "Epoch 1/20\n",
      "   1/1500 [..............................] - ETA: 4:34 - loss: 2.3090 - accuracy: 0.0938"
     ]
    },
    {
     "name": "stderr",
     "output_type": "stream",
     "text": [
      "2023-03-04 23:18:08.856875: W tensorflow/core/platform/profile_utils/cpu_utils.cc:128] Failed to get CPU frequency: 0 Hz\n"
     ]
    },
    {
     "name": "stdout",
     "output_type": "stream",
     "text": [
      "1500/1500 [==============================] - 11s 7ms/step - loss: 0.5140 - accuracy: 0.8155 - val_loss: 0.3245 - val_accuracy: 0.8817\n",
      "Epoch 2/20\n",
      "1500/1500 [==============================] - 10s 7ms/step - loss: 0.3372 - accuracy: 0.8796 - val_loss: 0.2638 - val_accuracy: 0.9014\n",
      "Epoch 3/20\n",
      "1500/1500 [==============================] - 10s 7ms/step - loss: 0.2901 - accuracy: 0.8950 - val_loss: 0.2591 - val_accuracy: 0.9031\n",
      "Epoch 4/20\n",
      "1500/1500 [==============================] - 11s 7ms/step - loss: 0.2589 - accuracy: 0.9050 - val_loss: 0.2403 - val_accuracy: 0.9097\n",
      "Epoch 5/20\n",
      "1500/1500 [==============================] - 10s 7ms/step - loss: 0.2361 - accuracy: 0.9135 - val_loss: 0.2306 - val_accuracy: 0.9143\n",
      "Epoch 6/20\n",
      "1500/1500 [==============================] - 10s 7ms/step - loss: 0.2164 - accuracy: 0.9196 - val_loss: 0.2282 - val_accuracy: 0.9154\n",
      "Epoch 7/20\n",
      "1500/1500 [==============================] - 10s 7ms/step - loss: 0.2005 - accuracy: 0.9268 - val_loss: 0.2359 - val_accuracy: 0.9133\n",
      "Epoch 8/20\n",
      "1500/1500 [==============================] - 10s 7ms/step - loss: 0.1844 - accuracy: 0.9310 - val_loss: 0.2161 - val_accuracy: 0.9208\n",
      "Epoch 9/20\n",
      "1500/1500 [==============================] - 10s 7ms/step - loss: 0.1713 - accuracy: 0.9373 - val_loss: 0.2214 - val_accuracy: 0.9202\n",
      "Epoch 10/20\n",
      "1500/1500 [==============================] - 10s 7ms/step - loss: 0.1565 - accuracy: 0.9414 - val_loss: 0.2207 - val_accuracy: 0.9225\n"
     ]
    }
   ],
   "source": [
    "model.compile(optimizer='adam', loss='sparse_categorical_crossentropy', metrics='accuracy')\n",
    "checkpoint_cb = keras.callbacks.ModelCheckpoint('best-cnn-model.h5', save_best_only=True)\n",
    "early_stopping_cb = keras.callbacks.EarlyStopping(patience=2,restore_best_weights=True)\n",
    "history = model.fit(train_scaled, train_target, epochs=20, validation_data=(val_scaled, val_target), callbacks=[checkpoint_cb, early_stopping_cb])"
   ]
  },
  {
   "cell_type": "code",
   "execution_count": 11,
   "metadata": {
    "colab": {
     "base_uri": "https://localhost:8080/",
     "height": 297
    },
    "executionInfo": {
     "elapsed": 528,
     "status": "ok",
     "timestamp": 1656165261414,
     "user": {
      "displayName": "Jaeseok Lee",
      "userId": "18224174844652526077"
     },
     "user_tz": -540
    },
    "id": "tCYrEZ6LGLP1",
    "outputId": "f0720b5c-d925-4bc7-eb49-420580d39230"
   },
   "outputs": [
    {
     "data": {
      "text/plain": [
       "<function matplotlib.pyplot.show(close=None, block=None)>"
      ]
     },
     "execution_count": 11,
     "metadata": {},
     "output_type": "execute_result"
    },
    {
     "data": {
      "image/png": "[encoded data removed]",
      "text/plain": [
       "<Figure size 432x288 with 1 Axes>"
      ]
     },
     "metadata": {
      "needs_background": "light"
     },
     "output_type": "display_data"
    }
   ],
   "source": [
    "import matplotlib.pyplot as plt\n",
    "plt.plot(history.history['loss'])\n",
    "plt.plot(history.history['val_loss'])\n",
    "plt.xlabel('epoch')\n",
    "plt.ylabel('loss')\n",
    "plt.legend(['train', 'val'])\n",
    "plt.show"
   ]
  },
  {
   "cell_type": "code",
   "execution_count": 12,
   "metadata": {
    "colab": {
     "base_uri": "https://localhost:8080/"
    },
    "executionInfo": {
     "elapsed": 2856,
     "status": "ok",
     "timestamp": 1656165295720,
     "user": {
      "displayName": "Jaeseok Lee",
      "userId": "18224174844652526077"
     },
     "user_tz": -540
    },
    "id": "R0xUKThSJFsH",
    "outputId": "c9c9536b-1585-4f66-ca18-6312bad2b783"
   },
   "outputs": [
    {
     "name": "stdout",
     "output_type": "stream",
     "text": [
      "375/375 [==============================] - 1s 2ms/step - loss: 0.2161 - accuracy: 0.9208\n"
     ]
    },
    {
     "data": {
      "text/plain": [
       "[0.21605008840560913, 0.9207500219345093]"
      ]
     },
     "execution_count": 12,
     "metadata": {},
     "output_type": "execute_result"
    }
   ],
   "source": [
    "model.evaluate(val_scaled, val_target)"
   ]
  },
  {
   "cell_type": "code",
   "execution_count": 13,
   "metadata": {
    "colab": {
     "base_uri": "https://localhost:8080/",
     "height": 265
    },
    "executionInfo": {
     "elapsed": 8,
     "status": "ok",
     "timestamp": 1656165331332,
     "user": {
      "displayName": "Jaeseok Lee",
      "userId": "18224174844652526077"
     },
     "user_tz": -540
    },
    "id": "QDWyYZi2JNhp",
    "outputId": "04aab0de-f976-4113-db5f-363a3e71431d"
   },
   "outputs": [
    {
     "data": {
      "image/png": "[encoded data removed]",
      "text/plain": [
       "<Figure size 432x288 with 1 Axes>"
      ]
     },
     "metadata": {
      "needs_background": "light"
     },
     "output_type": "display_data"
    }
   ],
   "source": [
    "plt.imshow(val_scaled[0].reshape(28, 28), cmap='gray_r')\n",
    "plt.show()"
   ]
  },
  {
   "cell_type": "code",
   "execution_count": 14,
   "metadata": {
    "colab": {
     "base_uri": "https://localhost:8080/"
    },
    "executionInfo": {
     "elapsed": 363,
     "status": "ok",
     "timestamp": 1656165352468,
     "user": {
      "displayName": "Jaeseok Lee",
      "userId": "18224174844652526077"
     },
     "user_tz": -540
    },
    "id": "Vj4x6EFkJWzm",
    "outputId": "99aa33a4-b3b0-4fb4-857c-a2296c504d7e"
   },
   "outputs": [
    {
     "name": "stdout",
     "output_type": "stream",
     "text": [
      "1/1 [==============================] - 0s 53ms/step\n",
      "[[5.5958954e-17 4.0736865e-23 8.1481240e-19 1.1482859e-17 8.2299500e-16\n",
      "  3.9237829e-18 1.4003676e-15 1.3002201e-18 1.0000000e+00 7.8740894e-19]]\n"
     ]
    }
   ],
   "source": [
    "preds = model.predict(val_scaled[0:1])\n",
    "print(preds)"
   ]
  },
  {
   "cell_type": "code",
   "execution_count": 15,
   "metadata": {
    "colab": {
     "base_uri": "https://localhost:8080/",
     "height": 279
    },
    "executionInfo": {
     "elapsed": 2,
     "status": "ok",
     "timestamp": 1656165409035,
     "user": {
      "displayName": "Jaeseok Lee",
      "userId": "18224174844652526077"
     },
     "user_tz": -540
    },
    "id": "QRs0siBtJb6D",
    "outputId": "fdda6f74-75d5-4459-8bc2-d3ad2dafb278"
   },
   "outputs": [
    {
     "data": {
      "image/png": "[encoded data removed]",
      "text/plain": [
       "<Figure size 432x288 with 1 Axes>"
      ]
     },
     "metadata": {
      "needs_background": "light"
     },
     "output_type": "display_data"
    }
   ],
   "source": [
    "plt.bar(range(1, 11), preds[0])\n",
    "plt.xlabel('class')\n",
    "plt.ylabel('prob.')\n",
    "plt.show()"
   ]
  },
  {
   "cell_type": "code",
   "execution_count": 16,
   "metadata": {
    "executionInfo": {
     "elapsed": 261,
     "status": "ok",
     "timestamp": 1656165610002,
     "user": {
      "displayName": "Jaeseok Lee",
      "userId": "18224174844652526077"
     },
     "user_tz": -540
    },
    "id": "Xe-91etCJnsb"
   },
   "outputs": [],
   "source": [
    "classes = ['T-shirt', 'Pant', 'Sweater', 'Dress', 'Coat', 'Sandal', 'Shirt', 'Sneakers', 'Bag', 'Ankle boots']"
   ]
  },
  {
   "cell_type": "code",
   "execution_count": 17,
   "metadata": {
    "colab": {
     "base_uri": "https://localhost:8080/"
    },
    "executionInfo": {
     "elapsed": 245,
     "status": "ok",
     "timestamp": 1656165633059,
     "user": {
      "displayName": "Jaeseok Lee",
      "userId": "18224174844652526077"
     },
     "user_tz": -540
    },
    "id": "s7X06HvqKa7w",
    "outputId": "9066b1f6-c328-4783-c24b-4e0fe33b8416"
   },
   "outputs": [
    {
     "name": "stdout",
     "output_type": "stream",
     "text": [
      "Bag\n"
     ]
    }
   ],
   "source": [
    "import numpy as np\n",
    "print(classes[np.argmax(preds)])"
   ]
  },
  {
   "cell_type": "code",
   "execution_count": 18,
   "metadata": {
    "executionInfo": {
     "elapsed": 282,
     "status": "ok",
     "timestamp": 1656165653321,
     "user": {
      "displayName": "Jaeseok Lee",
      "userId": "18224174844652526077"
     },
     "user_tz": -540
    },
    "id": "3D4MVq5AKgaS"
   },
   "outputs": [],
   "source": [
    "test_scaled = test_input.reshape(-1, 28, 28, 1) / 255.0"
   ]
  },
  {
   "cell_type": "code",
   "execution_count": 19,
   "metadata": {
    "colab": {
     "base_uri": "https://localhost:8080/"
    },
    "executionInfo": {
     "elapsed": 1634,
     "status": "ok",
     "timestamp": 1656165668813,
     "user": {
      "displayName": "Jaeseok Lee",
      "userId": "18224174844652526077"
     },
     "user_tz": -540
    },
    "id": "NwA5Idn7Klfx",
    "outputId": "ad0241af-d0d1-41df-8b7b-da19ed624ecb"
   },
   "outputs": [
    {
     "name": "stdout",
     "output_type": "stream",
     "text": [
      "313/313 [==============================] - 1s 2ms/step - loss: 0.2348 - accuracy: 0.9174\n"
     ]
    },
    {
     "data": {
      "text/plain": [
       "[0.23479719460010529, 0.9174000024795532]"
      ]
     },
     "execution_count": 19,
     "metadata": {},
     "output_type": "execute_result"
    }
   ],
   "source": [
    "model.evaluate(test_scaled, test_target)"
   ]
  },
  {
   "cell_type": "code",
   "execution_count": null,
   "metadata": {},
   "outputs": [],
   "source": []
  }
 ],
 "metadata": {
  "accelerator": "GPU",
  "colab": {
   "authorship_tag": "ABX9TyNU9BUxk+VEnDgbkxjc0Biq",
   "collapsed_sections": [],
   "name": "8-2_Image_catagorizing_by_convolution_neural_network.ipynb",
   "provenance": []
  },
  "gpuClass": "standard",
  "kernelspec": {
   "display_name": "Python 3 (ipykernel)",
   "language": "python",
   "name": "python3"
  },
  "language_info": {
   "codemirror_mode": {
    "name": "ipython",
    "version": 3
   },
   "file_extension": ".py",
   "mimetype": "text/x-python",
   "name": "python",
   "nbconvert_exporter": "python",
   "pygments_lexer": "ipython3",
   "version": "3.9.12"
  }
 },
 "nbformat": 4,
 "nbformat_minor": 1
}
