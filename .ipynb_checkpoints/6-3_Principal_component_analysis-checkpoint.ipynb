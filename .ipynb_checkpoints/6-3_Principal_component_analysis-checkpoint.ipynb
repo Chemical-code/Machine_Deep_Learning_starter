{
 "cells": [
  {
   "cell_type": "code",
   "execution_count": 2,
   "metadata": {
    "colab": {
     "base_uri": "https://localhost:8080/"
    },
    "executionInfo": {
     "elapsed": 692,
     "status": "ok",
     "timestamp": 1650603517491,
     "user": {
      "displayName": "Jaeseok Lee",
      "userId": "18224174844652526077"
     },
     "user_tz": -540
    },
    "id": "5K9x4c64na3t",
    "outputId": "26942dfd-e46a-49ab-ab9f-825dd40fb6b8"
   },
   "outputs": [
    {
     "name": "stdout",
     "output_type": "stream",
     "text": [
      "zsh:1: command not found: wget\r\n"
     ]
    },
    {
     "ename": "ModuleNotFoundError",
     "evalue": "No module named 'numpy'",
     "output_type": "error",
     "traceback": [
      "\u001b[0;31m---------------------------------------------------------------------------\u001b[0m",
      "\u001b[0;31mModuleNotFoundError\u001b[0m                       Traceback (most recent call last)",
      "Input \u001b[0;32mIn [2]\u001b[0m, in \u001b[0;36m<cell line: 2>\u001b[0;34m()\u001b[0m\n\u001b[1;32m      1\u001b[0m get_ipython()\u001b[38;5;241m.\u001b[39msystem(\u001b[38;5;124m'\u001b[39m\u001b[38;5;124mwget https://bit.ly/fruits_300_data -O fruits_300.npy\u001b[39m\u001b[38;5;124m'\u001b[39m)\n\u001b[0;32m----> 2\u001b[0m \u001b[38;5;28;01mimport\u001b[39;00m \u001b[38;5;21;01mnumpy\u001b[39;00m \u001b[38;5;28;01mas\u001b[39;00m \u001b[38;5;21;01mnp\u001b[39;00m\n\u001b[1;32m      3\u001b[0m fruits \u001b[38;5;241m=\u001b[39m np\u001b[38;5;241m.\u001b[39mload(\u001b[38;5;124m'\u001b[39m\u001b[38;5;124mfruits_300.npy\u001b[39m\u001b[38;5;124m'\u001b[39m)\n\u001b[1;32m      4\u001b[0m fruits_2d \u001b[38;5;241m=\u001b[39m fruits\u001b[38;5;241m.\u001b[39mreshape(\u001b[38;5;241m-\u001b[39m\u001b[38;5;241m1\u001b[39m, \u001b[38;5;241m100\u001b[39m\u001b[38;5;241m*\u001b[39m\u001b[38;5;241m100\u001b[39m)\n",
      "\u001b[0;31mModuleNotFoundError\u001b[0m: No module named 'numpy'"
     ]
    }
   ],
   "source": [
    "!wget https://bit.ly/fruits_300_data -O fruits_300.npy\n",
    "import numpy as np\n",
    "fruits = np.load('fruits_300.npy')\n",
    "fruits_2d = fruits.reshape(-1, 100*100)"
   ]
  },
  {
   "cell_type": "code",
   "execution_count": 3,
   "metadata": {
    "colab": {
     "base_uri": "https://localhost:8080/"
    },
    "executionInfo": {
     "elapsed": 721,
     "status": "ok",
     "timestamp": 1650603556064,
     "user": {
      "displayName": "Jaeseok Lee",
      "userId": "18224174844652526077"
     },
     "user_tz": -540
    },
    "id": "kLIUrE-8olZ0",
    "outputId": "f1898ed5-6289-42e4-a3fa-48bc2a57e501"
   },
   "outputs": [
    {
     "ename": "ModuleNotFoundError",
     "evalue": "No module named 'sklearn'",
     "output_type": "error",
     "traceback": [
      "\u001b[0;31m---------------------------------------------------------------------------\u001b[0m",
      "\u001b[0;31mModuleNotFoundError\u001b[0m                       Traceback (most recent call last)",
      "Input \u001b[0;32mIn [3]\u001b[0m, in \u001b[0;36m<cell line: 1>\u001b[0;34m()\u001b[0m\n\u001b[0;32m----> 1\u001b[0m \u001b[38;5;28;01mfrom\u001b[39;00m \u001b[38;5;21;01msklearn\u001b[39;00m\u001b[38;5;21;01m.\u001b[39;00m\u001b[38;5;21;01mdecomposition\u001b[39;00m \u001b[38;5;28;01mimport\u001b[39;00m PCA\n\u001b[1;32m      2\u001b[0m pca \u001b[38;5;241m=\u001b[39m PCA(n_components\u001b[38;5;241m=\u001b[39m\u001b[38;5;241m50\u001b[39m)\n\u001b[1;32m      3\u001b[0m pca\u001b[38;5;241m.\u001b[39mfit(fruits_2d)\n",
      "\u001b[0;31mModuleNotFoundError\u001b[0m: No module named 'sklearn'"
     ]
    }
   ],
   "source": [
    "from sklearn.decomposition import PCA\n",
    "pca = PCA(n_components=50)\n",
    "pca.fit(fruits_2d)"
   ]
  },
  {
   "cell_type": "code",
   "execution_count": null,
   "metadata": {
    "colab": {
     "base_uri": "https://localhost:8080/"
    },
    "executionInfo": {
     "elapsed": 3,
     "status": "ok",
     "timestamp": 1650603570906,
     "user": {
      "displayName": "Jaeseok Lee",
      "userId": "18224174844652526077"
     },
     "user_tz": -540
    },
    "id": "S0QeYobSo2nh",
    "outputId": "b39866fe-4d72-4300-f279-971a10cbc8cd"
   },
   "outputs": [],
   "source": [
    "print(pca.components_.shape)"
   ]
  },
  {
   "cell_type": "code",
   "execution_count": null,
   "metadata": {
    "executionInfo": {
     "elapsed": 3,
     "status": "ok",
     "timestamp": 1650603669912,
     "user": {
      "displayName": "Jaeseok Lee",
      "userId": "18224174844652526077"
     },
     "user_tz": -540
    },
    "id": "S1Wy1qGSpStk"
   },
   "outputs": [],
   "source": [
    "import matplotlib.pyplot as plt\n",
    "def draw_fruits(arr, ratio=1):\n",
    "  n = len(arr) # The number of samples\n",
    "  # Draw the 10 image each in a row. Calculate total row number by dividing into 10\n",
    "  rows = int(np.ceil(n/10))\n",
    "  # If there is a column, the number of raw is the number of samples.\n",
    "  cols = n if rows < 2 else 10\n",
    "  fig, axs = plt.subplots(rows, cols, figsize=(cols*ratio, rows*ratio), squeeze=False)\n",
    "  for i in range(rows):\n",
    "    for j in range(cols):\n",
    "      if i*10+j < n:\n",
    "        axs[i, j].imshow(arr[i*10+j], cmap='gray_r')\n",
    "        axs[i, j].axis('off')\n",
    "  plt.show()"
   ]
  },
  {
   "cell_type": "code",
   "execution_count": null,
   "metadata": {
    "colab": {
     "base_uri": "https://localhost:8080/",
     "height": 303
    },
    "executionInfo": {
     "elapsed": 2301,
     "status": "ok",
     "timestamp": 1650603675656,
     "user": {
      "displayName": "Jaeseok Lee",
      "userId": "18224174844652526077"
     },
     "user_tz": -540
    },
    "id": "09M4HLh_o7Mt",
    "outputId": "9938fbdb-f01b-471f-c95f-a0ce1f06fe3f"
   },
   "outputs": [],
   "source": [
    "draw_fruits(pca.components_.reshape(-1, 100, 100))"
   ]
  },
  {
   "cell_type": "code",
   "execution_count": null,
   "metadata": {
    "colab": {
     "base_uri": "https://localhost:8080/"
    },
    "executionInfo": {
     "elapsed": 269,
     "status": "ok",
     "timestamp": 1650603691958,
     "user": {
      "displayName": "Jaeseok Lee",
      "userId": "18224174844652526077"
     },
     "user_tz": -540
    },
    "id": "2I7BqD3_pK_F",
    "outputId": "56073786-f89a-4d44-a1cb-d0d5060b98e7"
   },
   "outputs": [],
   "source": [
    "print(fruits_2d.shape)"
   ]
  },
  {
   "cell_type": "code",
   "execution_count": null,
   "metadata": {
    "colab": {
     "base_uri": "https://localhost:8080/"
    },
    "executionInfo": {
     "elapsed": 283,
     "status": "ok",
     "timestamp": 1650603717825,
     "user": {
      "displayName": "Jaeseok Lee",
      "userId": "18224174844652526077"
     },
     "user_tz": -540
    },
    "id": "mt2UNCT5pYwc",
    "outputId": "8426bd85-7451-43c6-d087-bf0cb4a3b255"
   },
   "outputs": [],
   "source": [
    "fruits_pca = pca.transform(fruits_2d)\n",
    "print(fruits_pca.shape)"
   ]
  },
  {
   "cell_type": "code",
   "execution_count": null,
   "metadata": {
    "colab": {
     "base_uri": "https://localhost:8080/"
    },
    "executionInfo": {
     "elapsed": 2,
     "status": "ok",
     "timestamp": 1650603844109,
     "user": {
      "displayName": "Jaeseok Lee",
      "userId": "18224174844652526077"
     },
     "user_tz": -540
    },
    "id": "oLL3V1NmpeNl",
    "outputId": "0a704297-6f1a-4135-8eca-2a747be6b993"
   },
   "outputs": [],
   "source": [
    "fruits_inverse = pca.inverse_transform(fruits_pca)\n",
    "print(fruits_inverse.shape)"
   ]
  },
  {
   "cell_type": "code",
   "execution_count": null,
   "metadata": {
    "colab": {
     "base_uri": "https://localhost:8080/",
     "height": 1000
    },
    "executionInfo": {
     "elapsed": 10664,
     "status": "ok",
     "timestamp": 1650603910509,
     "user": {
      "displayName": "Jaeseok Lee",
      "userId": "18224174844652526077"
     },
     "user_tz": -540
    },
    "id": "gjTdAO-Wp97p",
    "outputId": "3660e08f-c01b-4b58-fd21-8abc3b120ed4"
   },
   "outputs": [],
   "source": [
    "fruits_reconstruct = fruits_inverse.reshape(-1, 100, 100)\n",
    "for start in [0, 100, 200]:\n",
    "  draw_fruits(fruits_reconstruct[start:start+100])\n",
    "  print(\"\\n\")"
   ]
  },
  {
   "cell_type": "code",
   "execution_count": null,
   "metadata": {
    "colab": {
     "base_uri": "https://localhost:8080/"
    },
    "executionInfo": {
     "elapsed": 298,
     "status": "ok",
     "timestamp": 1650603962006,
     "user": {
      "displayName": "Jaeseok Lee",
      "userId": "18224174844652526077"
     },
     "user_tz": -540
    },
    "id": "nDBeXBSiqLkb",
    "outputId": "15b254c5-99ed-4fb7-c095-bc7490baa6db"
   },
   "outputs": [],
   "source": [
    "print(np.sum(pca.explained_variance_ratio_))"
   ]
  },
  {
   "cell_type": "code",
   "execution_count": null,
   "metadata": {
    "colab": {
     "base_uri": "https://localhost:8080/",
     "height": 265
    },
    "executionInfo": {
     "elapsed": 827,
     "status": "ok",
     "timestamp": 1650603984258,
     "user": {
      "displayName": "Jaeseok Lee",
      "userId": "18224174844652526077"
     },
     "user_tz": -540
    },
    "id": "GFIYgVwiqaqz",
    "outputId": "72e235b0-f395-453d-c06c-0eb81de7b655"
   },
   "outputs": [],
   "source": [
    "plt.plot(pca.explained_variance_ratio_)\n",
    "plt.show()"
   ]
  },
  {
   "cell_type": "code",
   "execution_count": null,
   "metadata": {
    "executionInfo": {
     "elapsed": 263,
     "status": "ok",
     "timestamp": 1650604044832,
     "user": {
      "displayName": "Jaeseok Lee",
      "userId": "18224174844652526077"
     },
     "user_tz": -540
    },
    "id": "iYWlOwiqqf-a"
   },
   "outputs": [],
   "source": [
    "from sklearn.linear_model import LogisticRegression\n",
    "\n",
    "lr = LogisticRegression()"
   ]
  },
  {
   "cell_type": "code",
   "execution_count": null,
   "metadata": {
    "executionInfo": {
     "elapsed": 355,
     "status": "ok",
     "timestamp": 1650604066394,
     "user": {
      "displayName": "Jaeseok Lee",
      "userId": "18224174844652526077"
     },
     "user_tz": -540
    },
    "id": "Lqi_OfWhqu4c"
   },
   "outputs": [],
   "source": [
    "target = np.array([0]*100 + [1]*100 + [2]*100)"
   ]
  },
  {
   "cell_type": "code",
   "execution_count": null,
   "metadata": {
    "colab": {
     "base_uri": "https://localhost:8080/"
    },
    "executionInfo": {
     "elapsed": 8379,
     "status": "ok",
     "timestamp": 1650604129954,
     "user": {
      "displayName": "Jaeseok Lee",
      "userId": "18224174844652526077"
     },
     "user_tz": -540
    },
    "id": "Ib0THdRpq0HO",
    "outputId": "234dacd3-0b36-4b53-86ae-1a0604c8583b"
   },
   "outputs": [],
   "source": [
    "from sklearn.model_selection import cross_validate\n",
    "scores = cross_validate(lr, fruits_2d, target)\n",
    "print(np.mean(scores['test_score']))\n",
    "print(np.mean(scores['fit_time']))"
   ]
  },
  {
   "cell_type": "code",
   "execution_count": null,
   "metadata": {
    "colab": {
     "base_uri": "https://localhost:8080/"
    },
    "executionInfo": {
     "elapsed": 446,
     "status": "ok",
     "timestamp": 1650604228877,
     "user": {
      "displayName": "Jaeseok Lee",
      "userId": "18224174844652526077"
     },
     "user_tz": -540
    },
    "id": "EZ3VuO0DrBtO",
    "outputId": "e4d3e40d-bd73-411e-ba0f-6efdecc96a04"
   },
   "outputs": [],
   "source": [
    "scores = cross_validate(lr, fruits_pca, target)\n",
    "print(np.mean(scores['test_score']))\n",
    "print(np.mean(scores['fit_time']))"
   ]
  },
  {
   "cell_type": "code",
   "execution_count": null,
   "metadata": {
    "colab": {
     "base_uri": "https://localhost:8080/"
    },
    "executionInfo": {
     "elapsed": 1506,
     "status": "ok",
     "timestamp": 1650604262455,
     "user": {
      "displayName": "Jaeseok Lee",
      "userId": "18224174844652526077"
     },
     "user_tz": -540
    },
    "id": "GCvK9A67rYgH",
    "outputId": "8d611b4d-3918-4ef8-c261-87bfa32fa766"
   },
   "outputs": [],
   "source": [
    "pca = PCA(n_components=0.5)\n",
    "pca.fit(fruits_2d)"
   ]
  },
  {
   "cell_type": "code",
   "execution_count": null,
   "metadata": {
    "colab": {
     "base_uri": "https://localhost:8080/"
    },
    "executionInfo": {
     "elapsed": 271,
     "status": "ok",
     "timestamp": 1650604275900,
     "user": {
      "displayName": "Jaeseok Lee",
      "userId": "18224174844652526077"
     },
     "user_tz": -540
    },
    "id": "D3LrjVCsriRz",
    "outputId": "5815fb2b-ff3d-4da7-b780-d44b9a4af083"
   },
   "outputs": [],
   "source": [
    "print(pca.n_components_)"
   ]
  },
  {
   "cell_type": "code",
   "execution_count": null,
   "metadata": {
    "colab": {
     "base_uri": "https://localhost:8080/"
    },
    "executionInfo": {
     "elapsed": 6,
     "status": "ok",
     "timestamp": 1650604305338,
     "user": {
      "displayName": "Jaeseok Lee",
      "userId": "18224174844652526077"
     },
     "user_tz": -540
    },
    "id": "I1QhrBFornUW",
    "outputId": "767b874f-c198-4bb5-c41e-0a8cf89c3233"
   },
   "outputs": [],
   "source": [
    "fruits_pca = pca.transform(fruits_2d)\n",
    "print(fruits_pca.shape)"
   ]
  },
  {
   "cell_type": "code",
   "execution_count": null,
   "metadata": {
    "colab": {
     "base_uri": "https://localhost:8080/"
    },
    "executionInfo": {
     "elapsed": 280,
     "status": "ok",
     "timestamp": 1650604350249,
     "user": {
      "displayName": "Jaeseok Lee",
      "userId": "18224174844652526077"
     },
     "user_tz": -540
    },
    "id": "1rMaslz9ruki",
    "outputId": "f59bed33-14ee-4f2c-aada-524f98377223"
   },
   "outputs": [],
   "source": [
    "scores = cross_validate(lr, fruits_pca, target)\n",
    "print(np.mean(scores['test_score']))\n",
    "print(np.mean(scores['fit_time']))"
   ]
  },
  {
   "cell_type": "code",
   "execution_count": null,
   "metadata": {
    "colab": {
     "base_uri": "https://localhost:8080/"
    },
    "executionInfo": {
     "elapsed": 676,
     "status": "ok",
     "timestamp": 1650604411330,
     "user": {
      "displayName": "Jaeseok Lee",
      "userId": "18224174844652526077"
     },
     "user_tz": -540
    },
    "id": "udo4BHW7r5T5",
    "outputId": "9fb55079-761a-4235-e9a4-4f805f7e5110"
   },
   "outputs": [],
   "source": [
    "from sklearn.cluster import KMeans\n",
    "km = KMeans(n_clusters=3, random_state=42)\n",
    "km.fit(fruits_pca)\n",
    "print(np.unique(km.labels_, return_counts=True))"
   ]
  },
  {
   "cell_type": "code",
   "execution_count": null,
   "metadata": {
    "colab": {
     "base_uri": "https://localhost:8080/",
     "height": 1000
    },
    "executionInfo": {
     "elapsed": 12028,
     "status": "ok",
     "timestamp": 1650604500519,
     "user": {
      "displayName": "Jaeseok Lee",
      "userId": "18224174844652526077"
     },
     "user_tz": -540
    },
    "id": "92iYDkJzsIST",
    "outputId": "a35683f5-1e94-42ae-9ed5-c3d7b4a5cbc8"
   },
   "outputs": [],
   "source": [
    "for label in range(0, 3):\n",
    "  draw_fruits(fruits[km.labels_ == label])\n",
    "  print(\"\\n\")"
   ]
  },
  {
   "cell_type": "code",
   "execution_count": null,
   "metadata": {
    "colab": {
     "base_uri": "https://localhost:8080/",
     "height": 265
    },
    "executionInfo": {
     "elapsed": 886,
     "status": "ok",
     "timestamp": 1650604599636,
     "user": {
      "displayName": "Jaeseok Lee",
      "userId": "18224174844652526077"
     },
     "user_tz": -540
    },
    "id": "baNKs4GfsYzl",
    "outputId": "a104d77c-c025-4baf-cd6c-93e6641f3d46"
   },
   "outputs": [],
   "source": [
    "for label in range(0, 3):\n",
    "  data = fruits_pca[km.labels_ == label]\n",
    "  plt.scatter(data[:,0], data[:,1])\n",
    "plt.legend(['apple','banana', 'pineapple'])\n",
    "plt.show()"
   ]
  }
 ],
 "metadata": {
  "colab": {
   "authorship_tag": "ABX9TyO+Z+ch06rV/kyF63AO7WiG",
   "name": "6-3_Principal_component_analysis.ipynb",
   "provenance": []
  },
  "kernelspec": {
   "display_name": "Python 3 (ipykernel)",
   "language": "python",
   "name": "python3"
  },
  "language_info": {
   "codemirror_mode": {
    "name": "ipython",
    "version": 3
   },
   "file_extension": ".py",
   "mimetype": "text/x-python",
   "name": "python",
   "nbconvert_exporter": "python",
   "pygments_lexer": "ipython3",
   "version": "3.9.12"
  }
 },
 "nbformat": 4,
 "nbformat_minor": 1
}
