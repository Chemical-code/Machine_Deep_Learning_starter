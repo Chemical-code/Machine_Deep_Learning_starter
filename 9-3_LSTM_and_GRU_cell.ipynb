{
 "cells": [
  {
   "cell_type": "markdown",
   "id": "2605f84b",
   "metadata": {},
   "source": [
    "# Structure of Long Short-Term Memory (LSTM)"
   ]
  },
  {
   "cell_type": "markdown",
   "id": "fd228512",
   "metadata": {},
   "source": [
    "# Training LSTM Neural Network"
   ]
  },
  {
   "cell_type": "code",
   "execution_count": 1,
   "id": "db724520",
   "metadata": {},
   "outputs": [],
   "source": [
    "from tensorflow.keras.datasets import imdb\n",
    "from sklearn.model_selection import train_test_split\n",
    "(train_input, train_target), (test_input, test_target) = imdb.load_data(num_words=500)\n",
    "train_input, val_input, train_target, val_target = train_test_split(train_input, train_target, test_size=0.2, random_state=42)"
   ]
  },
  {
   "cell_type": "code",
   "execution_count": 3,
   "id": "a1b234e7",
   "metadata": {},
   "outputs": [],
   "source": [
    "from tensorflow.keras.preprocessing.sequence import pad_sequences\n",
    "train_seq = pad_sequences(train_input, maxlen=100)\n",
    "val_seq = pad_sequences(val_input, maxlen=100)"
   ]
  },
  {
   "cell_type": "code",
   "execution_count": 4,
   "id": "d731ed09",
   "metadata": {},
   "outputs": [],
   "source": [
    "from tensorflow import keras\n",
    "model = keras.Sequential()\n",
    "model.add(keras.layers.Embedding(500, 16, input_length=100))\n",
    "model.add(keras.layers.LSTM(8))\n",
    "model.add(keras.layers.Dense(1, activation='sigmoid'))"
   ]
  },
  {
   "cell_type": "code",
   "execution_count": 5,
   "id": "84d239a1",
   "metadata": {},
   "outputs": [
    {
     "name": "stdout",
     "output_type": "stream",
     "text": [
      "Model: \"sequential\"\n",
      "_________________________________________________________________\n",
      " Layer (type)                Output Shape              Param #   \n",
      "=================================================================\n",
      " embedding (Embedding)       (None, 100, 16)           8000      \n",
      "                                                                 \n",
      " lstm (LSTM)                 (None, 8)                 800       \n",
      "                                                                 \n",
      " dense (Dense)               (None, 1)                 9         \n",
      "                                                                 \n",
      "=================================================================\n",
      "Total params: 8,809\n",
      "Trainable params: 8,809\n",
      "Non-trainable params: 0\n",
      "_________________________________________________________________\n"
     ]
    }
   ],
   "source": [
    "model.summary()"
   ]
  },
  {
   "cell_type": "code",
   "execution_count": 8,
   "id": "c82ec39a",
   "metadata": {},
   "outputs": [
    {
     "name": "stdout",
     "output_type": "stream",
     "text": [
      "Epoch 1/100\n"
     ]
    },
    {
     "name": "stderr",
     "output_type": "stream",
     "text": [
      "2023-03-05 15:37:26.054473: W tensorflow/core/platform/profile_utils/cpu_utils.cc:128] Failed to get CPU frequency: 0 Hz\n"
     ]
    },
    {
     "name": "stdout",
     "output_type": "stream",
     "text": [
      "313/313 [==============================] - 5s 14ms/step - loss: 0.6925 - accuracy: 0.5466 - val_loss: 0.6919 - val_accuracy: 0.5770\n",
      "Epoch 2/100\n",
      "313/313 [==============================] - 4s 13ms/step - loss: 0.6906 - accuracy: 0.6026 - val_loss: 0.6895 - val_accuracy: 0.6020\n",
      "Epoch 3/100\n",
      "313/313 [==============================] - 4s 14ms/step - loss: 0.6866 - accuracy: 0.6224 - val_loss: 0.6844 - val_accuracy: 0.6206\n",
      "Epoch 4/100\n",
      "313/313 [==============================] - 4s 13ms/step - loss: 0.6760 - accuracy: 0.6335 - val_loss: 0.6677 - val_accuracy: 0.6102\n",
      "Epoch 5/100\n",
      "313/313 [==============================] - 4s 13ms/step - loss: 0.6368 - accuracy: 0.6862 - val_loss: 0.6123 - val_accuracy: 0.7304\n",
      "Epoch 6/100\n",
      "313/313 [==============================] - 4s 13ms/step - loss: 0.5915 - accuracy: 0.7388 - val_loss: 0.5867 - val_accuracy: 0.7372\n",
      "Epoch 7/100\n",
      "313/313 [==============================] - 4s 13ms/step - loss: 0.5694 - accuracy: 0.7529 - val_loss: 0.5676 - val_accuracy: 0.7514\n",
      "Epoch 8/100\n",
      "313/313 [==============================] - 4s 13ms/step - loss: 0.5506 - accuracy: 0.7635 - val_loss: 0.5546 - val_accuracy: 0.7568\n",
      "Epoch 9/100\n",
      "313/313 [==============================] - 4s 13ms/step - loss: 0.5341 - accuracy: 0.7715 - val_loss: 0.5361 - val_accuracy: 0.7694\n",
      "Epoch 10/100\n",
      "313/313 [==============================] - 4s 13ms/step - loss: 0.5199 - accuracy: 0.7774 - val_loss: 0.5242 - val_accuracy: 0.7690\n",
      "Epoch 11/100\n",
      "313/313 [==============================] - 4s 13ms/step - loss: 0.5063 - accuracy: 0.7825 - val_loss: 0.5120 - val_accuracy: 0.7744\n",
      "Epoch 12/100\n",
      "313/313 [==============================] - 4s 13ms/step - loss: 0.4949 - accuracy: 0.7878 - val_loss: 0.5044 - val_accuracy: 0.7750\n",
      "Epoch 13/100\n",
      "313/313 [==============================] - 4s 13ms/step - loss: 0.4856 - accuracy: 0.7911 - val_loss: 0.4988 - val_accuracy: 0.7794\n",
      "Epoch 14/100\n",
      "313/313 [==============================] - 4s 13ms/step - loss: 0.4783 - accuracy: 0.7944 - val_loss: 0.4906 - val_accuracy: 0.7758\n",
      "Epoch 15/100\n",
      "313/313 [==============================] - 4s 13ms/step - loss: 0.4714 - accuracy: 0.7946 - val_loss: 0.4854 - val_accuracy: 0.7804\n",
      "Epoch 16/100\n",
      "313/313 [==============================] - 4s 13ms/step - loss: 0.4650 - accuracy: 0.7987 - val_loss: 0.4862 - val_accuracy: 0.7862\n",
      "Epoch 17/100\n",
      "313/313 [==============================] - 4s 13ms/step - loss: 0.4599 - accuracy: 0.8022 - val_loss: 0.4786 - val_accuracy: 0.7842\n",
      "Epoch 18/100\n",
      "313/313 [==============================] - 4s 13ms/step - loss: 0.4552 - accuracy: 0.8034 - val_loss: 0.4726 - val_accuracy: 0.7842\n",
      "Epoch 19/100\n",
      "313/313 [==============================] - 4s 13ms/step - loss: 0.4505 - accuracy: 0.8048 - val_loss: 0.4746 - val_accuracy: 0.7870\n",
      "Epoch 20/100\n",
      "313/313 [==============================] - 4s 13ms/step - loss: 0.4465 - accuracy: 0.8062 - val_loss: 0.4705 - val_accuracy: 0.7868\n",
      "Epoch 21/100\n",
      "313/313 [==============================] - 4s 13ms/step - loss: 0.4430 - accuracy: 0.8077 - val_loss: 0.4687 - val_accuracy: 0.7912\n",
      "Epoch 22/100\n",
      "313/313 [==============================] - 4s 13ms/step - loss: 0.4401 - accuracy: 0.8085 - val_loss: 0.4624 - val_accuracy: 0.7890\n",
      "Epoch 23/100\n",
      "313/313 [==============================] - 4s 13ms/step - loss: 0.4373 - accuracy: 0.8115 - val_loss: 0.4595 - val_accuracy: 0.7926\n",
      "Epoch 24/100\n",
      "313/313 [==============================] - 4s 13ms/step - loss: 0.4345 - accuracy: 0.8121 - val_loss: 0.4576 - val_accuracy: 0.7886\n",
      "Epoch 25/100\n",
      "313/313 [==============================] - 4s 13ms/step - loss: 0.4318 - accuracy: 0.8131 - val_loss: 0.4551 - val_accuracy: 0.7918\n",
      "Epoch 26/100\n",
      "313/313 [==============================] - 4s 13ms/step - loss: 0.4295 - accuracy: 0.8149 - val_loss: 0.4534 - val_accuracy: 0.7898\n",
      "Epoch 27/100\n",
      "313/313 [==============================] - 4s 13ms/step - loss: 0.4274 - accuracy: 0.8127 - val_loss: 0.4552 - val_accuracy: 0.7836\n",
      "Epoch 28/100\n",
      "313/313 [==============================] - 4s 13ms/step - loss: 0.4256 - accuracy: 0.8147 - val_loss: 0.4499 - val_accuracy: 0.7950\n",
      "Epoch 29/100\n",
      "313/313 [==============================] - 4s 13ms/step - loss: 0.4231 - accuracy: 0.8156 - val_loss: 0.4483 - val_accuracy: 0.7952\n",
      "Epoch 30/100\n",
      "313/313 [==============================] - 4s 13ms/step - loss: 0.4214 - accuracy: 0.8163 - val_loss: 0.4464 - val_accuracy: 0.7970\n",
      "Epoch 31/100\n",
      "313/313 [==============================] - 4s 13ms/step - loss: 0.4196 - accuracy: 0.8182 - val_loss: 0.4452 - val_accuracy: 0.7986\n",
      "Epoch 32/100\n",
      "313/313 [==============================] - 4s 13ms/step - loss: 0.4181 - accuracy: 0.8170 - val_loss: 0.4456 - val_accuracy: 0.7916\n",
      "Epoch 33/100\n",
      "313/313 [==============================] - 4s 14ms/step - loss: 0.4165 - accuracy: 0.8180 - val_loss: 0.4424 - val_accuracy: 0.7978\n",
      "Epoch 34/100\n",
      "313/313 [==============================] - 4s 13ms/step - loss: 0.4150 - accuracy: 0.8196 - val_loss: 0.4411 - val_accuracy: 0.7946\n",
      "Epoch 35/100\n",
      "313/313 [==============================] - 4s 13ms/step - loss: 0.4137 - accuracy: 0.8197 - val_loss: 0.4405 - val_accuracy: 0.8006\n",
      "Epoch 36/100\n",
      "313/313 [==============================] - 4s 13ms/step - loss: 0.4120 - accuracy: 0.8199 - val_loss: 0.4429 - val_accuracy: 0.7980\n",
      "Epoch 37/100\n",
      "313/313 [==============================] - 4s 13ms/step - loss: 0.4110 - accuracy: 0.8198 - val_loss: 0.4382 - val_accuracy: 0.8036\n",
      "Epoch 38/100\n",
      "313/313 [==============================] - 4s 13ms/step - loss: 0.4099 - accuracy: 0.8206 - val_loss: 0.4366 - val_accuracy: 0.7990\n",
      "Epoch 39/100\n",
      "313/313 [==============================] - 4s 13ms/step - loss: 0.4086 - accuracy: 0.8214 - val_loss: 0.4347 - val_accuracy: 0.8004\n",
      "Epoch 40/100\n",
      "313/313 [==============================] - 4s 13ms/step - loss: 0.4074 - accuracy: 0.8207 - val_loss: 0.4367 - val_accuracy: 0.8038\n",
      "Epoch 41/100\n",
      "313/313 [==============================] - 4s 13ms/step - loss: 0.4065 - accuracy: 0.8213 - val_loss: 0.4357 - val_accuracy: 0.8046\n",
      "Epoch 42/100\n",
      "313/313 [==============================] - 4s 13ms/step - loss: 0.4049 - accuracy: 0.8231 - val_loss: 0.4354 - val_accuracy: 0.7938\n"
     ]
    }
   ],
   "source": [
    "rmsprop = keras.optimizers.RMSprop(learning_rate=1e-4)\n",
    "model.compile(optimizer=rmsprop, loss='binary_crossentropy', metrics=['accuracy'])\n",
    "checkpoint_cb = keras.callbacks.ModelCheckpoint('best-lstm-model.h5', save_best_only=True)\n",
    "early_stopping_cb = keras.callbacks.EarlyStopping(patience=3, restore_best_weights=True)\n",
    "history = model.fit(train_seq, train_target, epochs=100, batch_size=64, validation_data=(val_seq, val_target), callbacks=[checkpoint_cb, early_stopping_cb])"
   ]
  },
  {
   "cell_type": "code",
   "execution_count": 10,
   "id": "29519185",
   "metadata": {},
   "outputs": [
    {
     "data": {
      "image/png": "[encoded data removed]",
      "text/plain": [
       "<Figure size 432x288 with 1 Axes>"
      ]
     },
     "metadata": {
      "needs_background": "light"
     },
     "output_type": "display_data"
    }
   ],
   "source": [
    "import matplotlib.pyplot as plt\n",
    "plt.plot(history.history['loss'])\n",
    "plt.plot(history.history['val_loss'])\n",
    "plt.xlabel('epoch')\n",
    "plt.ylabel('loss')\n",
    "plt.legend(['train', 'val'])\n",
    "plt.show()"
   ]
  },
  {
   "cell_type": "markdown",
   "id": "dfa4f895",
   "metadata": {},
   "source": [
    "# Apply Dropout to RNN"
   ]
  },
  {
   "cell_type": "code",
   "execution_count": 11,
   "id": "ea5fc873",
   "metadata": {},
   "outputs": [],
   "source": [
    "model2 = keras.Sequential()\n",
    "model2.add(keras.layers.Embedding(500, 16, input_length=100))\n",
    "model2.add(keras.layers.LSTM(8, dropout=0.3))\n",
    "model2.add(keras.layers.Dense(1, activation='sigmoid'))"
   ]
  },
  {
   "cell_type": "code",
   "execution_count": 13,
   "id": "018da96a",
   "metadata": {},
   "outputs": [
    {
     "name": "stdout",
     "output_type": "stream",
     "text": [
      "Epoch 1/100\n",
      "313/313 [==============================] - 5s 15ms/step - loss: 0.6924 - accuracy: 0.5325 - val_loss: 0.6915 - val_accuracy: 0.5770\n",
      "Epoch 2/100\n",
      "313/313 [==============================] - 4s 13ms/step - loss: 0.6898 - accuracy: 0.5942 - val_loss: 0.6873 - val_accuracy: 0.6342\n",
      "Epoch 3/100\n",
      "313/313 [==============================] - 4s 13ms/step - loss: 0.6773 - accuracy: 0.6240 - val_loss: 0.6564 - val_accuracy: 0.6310\n",
      "Epoch 4/100\n",
      "313/313 [==============================] - 4s 13ms/step - loss: 0.6182 - accuracy: 0.7055 - val_loss: 0.6006 - val_accuracy: 0.7356\n",
      "Epoch 5/100\n",
      "313/313 [==============================] - 4s 14ms/step - loss: 0.5896 - accuracy: 0.7367 - val_loss: 0.5818 - val_accuracy: 0.7452\n",
      "Epoch 6/100\n",
      "313/313 [==============================] - 4s 14ms/step - loss: 0.5729 - accuracy: 0.7466 - val_loss: 0.5662 - val_accuracy: 0.7530\n",
      "Epoch 7/100\n",
      "313/313 [==============================] - 4s 14ms/step - loss: 0.5585 - accuracy: 0.7554 - val_loss: 0.5538 - val_accuracy: 0.7552\n",
      "Epoch 8/100\n",
      "313/313 [==============================] - 4s 13ms/step - loss: 0.5429 - accuracy: 0.7616 - val_loss: 0.5393 - val_accuracy: 0.7632\n",
      "Epoch 9/100\n",
      "313/313 [==============================] - 4s 13ms/step - loss: 0.5313 - accuracy: 0.7692 - val_loss: 0.5285 - val_accuracy: 0.7668\n",
      "Epoch 10/100\n",
      "313/313 [==============================] - 4s 13ms/step - loss: 0.5186 - accuracy: 0.7735 - val_loss: 0.5146 - val_accuracy: 0.7734\n",
      "Epoch 11/100\n",
      "313/313 [==============================] - 4s 13ms/step - loss: 0.5073 - accuracy: 0.7763 - val_loss: 0.5020 - val_accuracy: 0.7768\n",
      "Epoch 12/100\n",
      "313/313 [==============================] - 4s 13ms/step - loss: 0.4947 - accuracy: 0.7806 - val_loss: 0.4924 - val_accuracy: 0.7776\n",
      "Epoch 13/100\n",
      "313/313 [==============================] - 4s 13ms/step - loss: 0.4821 - accuracy: 0.7875 - val_loss: 0.4829 - val_accuracy: 0.7822\n",
      "Epoch 14/100\n",
      "313/313 [==============================] - 4s 13ms/step - loss: 0.4743 - accuracy: 0.7892 - val_loss: 0.4770 - val_accuracy: 0.7864\n",
      "Epoch 15/100\n",
      "313/313 [==============================] - 4s 13ms/step - loss: 0.4653 - accuracy: 0.7919 - val_loss: 0.4674 - val_accuracy: 0.7882\n",
      "Epoch 16/100\n",
      "313/313 [==============================] - 4s 13ms/step - loss: 0.4616 - accuracy: 0.7915 - val_loss: 0.4637 - val_accuracy: 0.7854\n",
      "Epoch 17/100\n",
      "313/313 [==============================] - 4s 13ms/step - loss: 0.4582 - accuracy: 0.7929 - val_loss: 0.4589 - val_accuracy: 0.7904\n",
      "Epoch 18/100\n",
      "313/313 [==============================] - 4s 13ms/step - loss: 0.4528 - accuracy: 0.7976 - val_loss: 0.4567 - val_accuracy: 0.7912\n",
      "Epoch 19/100\n",
      "313/313 [==============================] - 4s 13ms/step - loss: 0.4500 - accuracy: 0.7957 - val_loss: 0.4540 - val_accuracy: 0.7924\n",
      "Epoch 20/100\n",
      "313/313 [==============================] - 4s 13ms/step - loss: 0.4464 - accuracy: 0.7987 - val_loss: 0.4545 - val_accuracy: 0.7922\n",
      "Epoch 21/100\n",
      "313/313 [==============================] - 4s 13ms/step - loss: 0.4456 - accuracy: 0.7994 - val_loss: 0.4470 - val_accuracy: 0.7978\n",
      "Epoch 22/100\n",
      "313/313 [==============================] - 4s 13ms/step - loss: 0.4397 - accuracy: 0.8031 - val_loss: 0.4472 - val_accuracy: 0.7946\n",
      "Epoch 23/100\n",
      "313/313 [==============================] - 4s 13ms/step - loss: 0.4369 - accuracy: 0.8033 - val_loss: 0.4448 - val_accuracy: 0.7966\n",
      "Epoch 24/100\n",
      "313/313 [==============================] - 4s 13ms/step - loss: 0.4354 - accuracy: 0.8052 - val_loss: 0.4474 - val_accuracy: 0.7956\n",
      "Epoch 25/100\n",
      "313/313 [==============================] - 4s 13ms/step - loss: 0.4333 - accuracy: 0.8028 - val_loss: 0.4422 - val_accuracy: 0.7950\n",
      "Epoch 26/100\n",
      "313/313 [==============================] - 4s 13ms/step - loss: 0.4309 - accuracy: 0.8047 - val_loss: 0.4399 - val_accuracy: 0.7970\n",
      "Epoch 27/100\n",
      "313/313 [==============================] - 4s 13ms/step - loss: 0.4296 - accuracy: 0.8061 - val_loss: 0.4417 - val_accuracy: 0.7962\n",
      "Epoch 28/100\n",
      "313/313 [==============================] - 4s 13ms/step - loss: 0.4285 - accuracy: 0.8050 - val_loss: 0.4371 - val_accuracy: 0.7972\n",
      "Epoch 29/100\n",
      "313/313 [==============================] - 4s 13ms/step - loss: 0.4259 - accuracy: 0.8088 - val_loss: 0.4374 - val_accuracy: 0.7998\n",
      "Epoch 30/100\n",
      "313/313 [==============================] - 4s 13ms/step - loss: 0.4263 - accuracy: 0.8094 - val_loss: 0.4372 - val_accuracy: 0.7970\n",
      "Epoch 31/100\n",
      "313/313 [==============================] - 4s 13ms/step - loss: 0.4248 - accuracy: 0.8071 - val_loss: 0.4345 - val_accuracy: 0.8002\n",
      "Epoch 32/100\n",
      "313/313 [==============================] - 4s 13ms/step - loss: 0.4241 - accuracy: 0.8074 - val_loss: 0.4338 - val_accuracy: 0.8008\n",
      "Epoch 33/100\n",
      "313/313 [==============================] - 4s 13ms/step - loss: 0.4224 - accuracy: 0.8109 - val_loss: 0.4334 - val_accuracy: 0.8016\n",
      "Epoch 34/100\n",
      "313/313 [==============================] - 4s 13ms/step - loss: 0.4215 - accuracy: 0.8095 - val_loss: 0.4331 - val_accuracy: 0.8014\n",
      "Epoch 35/100\n",
      "313/313 [==============================] - 4s 14ms/step - loss: 0.4197 - accuracy: 0.8097 - val_loss: 0.4315 - val_accuracy: 0.8016\n",
      "Epoch 36/100\n",
      "313/313 [==============================] - 4s 13ms/step - loss: 0.4194 - accuracy: 0.8088 - val_loss: 0.4315 - val_accuracy: 0.8012\n",
      "Epoch 37/100\n",
      "313/313 [==============================] - 4s 13ms/step - loss: 0.4190 - accuracy: 0.8097 - val_loss: 0.4308 - val_accuracy: 0.8028\n",
      "Epoch 38/100\n",
      "313/313 [==============================] - 4s 13ms/step - loss: 0.4181 - accuracy: 0.8102 - val_loss: 0.4300 - val_accuracy: 0.8034\n",
      "Epoch 39/100\n",
      "313/313 [==============================] - 4s 13ms/step - loss: 0.4168 - accuracy: 0.8110 - val_loss: 0.4296 - val_accuracy: 0.8014\n",
      "Epoch 40/100\n",
      "313/313 [==============================] - 4s 13ms/step - loss: 0.4152 - accuracy: 0.8120 - val_loss: 0.4294 - val_accuracy: 0.8032\n",
      "Epoch 41/100\n",
      "313/313 [==============================] - 4s 13ms/step - loss: 0.4154 - accuracy: 0.8118 - val_loss: 0.4299 - val_accuracy: 0.8028\n",
      "Epoch 42/100\n",
      "313/313 [==============================] - 4s 13ms/step - loss: 0.4159 - accuracy: 0.8114 - val_loss: 0.4288 - val_accuracy: 0.8036\n",
      "Epoch 43/100\n",
      "313/313 [==============================] - 4s 13ms/step - loss: 0.4132 - accuracy: 0.8126 - val_loss: 0.4276 - val_accuracy: 0.8042\n",
      "Epoch 44/100\n",
      "313/313 [==============================] - 4s 13ms/step - loss: 0.4137 - accuracy: 0.8134 - val_loss: 0.4266 - val_accuracy: 0.8032\n",
      "Epoch 45/100\n",
      "313/313 [==============================] - 4s 13ms/step - loss: 0.4127 - accuracy: 0.8120 - val_loss: 0.4331 - val_accuracy: 0.8010\n",
      "Epoch 46/100\n",
      "313/313 [==============================] - 4s 13ms/step - loss: 0.4109 - accuracy: 0.8127 - val_loss: 0.4269 - val_accuracy: 0.8048\n",
      "Epoch 47/100\n",
      "313/313 [==============================] - 4s 13ms/step - loss: 0.4110 - accuracy: 0.8126 - val_loss: 0.4258 - val_accuracy: 0.8034\n",
      "Epoch 48/100\n",
      "313/313 [==============================] - 4s 13ms/step - loss: 0.4105 - accuracy: 0.8144 - val_loss: 0.4261 - val_accuracy: 0.8042\n",
      "Epoch 49/100\n",
      "313/313 [==============================] - 4s 13ms/step - loss: 0.4101 - accuracy: 0.8145 - val_loss: 0.4262 - val_accuracy: 0.8038\n",
      "Epoch 50/100\n",
      "313/313 [==============================] - 4s 13ms/step - loss: 0.4098 - accuracy: 0.8146 - val_loss: 0.4268 - val_accuracy: 0.8048\n"
     ]
    }
   ],
   "source": [
    "rmsprop = keras.optimizers.RMSprop(learning_rate=1e-4)\n",
    "model2.compile(optimizer=rmsprop, loss='binary_crossentropy', metrics=['accuracy'])\n",
    "checkpoint_cb = keras.callbacks.ModelCheckpoint('best-lstm-model.h5', save_best_only=True)\n",
    "early_stopping_cb = keras.callbacks.EarlyStopping(patience=3, restore_best_weights=True)\n",
    "history = model2.fit(train_seq, train_target, epochs=100, batch_size=64, validation_data=(val_seq, val_target), callbacks=[checkpoint_cb, early_stopping_cb])"
   ]
  },
  {
   "cell_type": "code",
   "execution_count": 14,
   "id": "75877426",
   "metadata": {},
   "outputs": [
    {
     "data": {
      "image/png": "[encoded data removed]",
      "text/plain": [
       "<Figure size 432x288 with 1 Axes>"
      ]
     },
     "metadata": {
      "needs_background": "light"
     },
     "output_type": "display_data"
    }
   ],
   "source": [
    "plt.plot(history.history['loss'])\n",
    "plt.plot(history.history['val_loss'])\n",
    "plt.xlabel('epoch')\n",
    "plt.ylabel('loss')\n",
    "plt.legend(['train', 'val'])\n",
    "plt.show()"
   ]
  },
  {
   "cell_type": "markdown",
   "id": "2eb0224d",
   "metadata": {},
   "source": [
    "# Connect Two Layers"
   ]
  },
  {
   "cell_type": "code",
   "execution_count": 16,
   "id": "c638452d",
   "metadata": {},
   "outputs": [],
   "source": [
    "model3 = keras.Sequential()\n",
    "model3.add(keras.layers.Embedding(500, 16, input_length=100))\n",
    "model3.add(keras.layers.LSTM(8, dropout=0.3, return_sequences=True))\n",
    "model3.add(keras.layers.LSTM(8, dropout=0.3))\n",
    "model3.add(keras.layers.Dense(1, activation='sigmoid'))"
   ]
  },
  {
   "cell_type": "code",
   "execution_count": 17,
   "id": "4748bb90",
   "metadata": {},
   "outputs": [
    {
     "name": "stdout",
     "output_type": "stream",
     "text": [
      "Model: \"sequential_3\"\n",
      "_________________________________________________________________\n",
      " Layer (type)                Output Shape              Param #   \n",
      "=================================================================\n",
      " embedding_3 (Embedding)     (None, 100, 16)           8000      \n",
      "                                                                 \n",
      " lstm_2 (LSTM)               (None, 100, 8)            800       \n",
      "                                                                 \n",
      " lstm_3 (LSTM)               (None, 8)                 544       \n",
      "                                                                 \n",
      " dense_2 (Dense)             (None, 1)                 9         \n",
      "                                                                 \n",
      "=================================================================\n",
      "Total params: 9,353\n",
      "Trainable params: 9,353\n",
      "Non-trainable params: 0\n",
      "_________________________________________________________________\n"
     ]
    }
   ],
   "source": [
    "model3.summary()"
   ]
  },
  {
   "cell_type": "code",
   "execution_count": 20,
   "id": "4f101a66",
   "metadata": {},
   "outputs": [
    {
     "name": "stdout",
     "output_type": "stream",
     "text": [
      "Epoch 1/100\n",
      "313/313 [==============================] - 9s 26ms/step - loss: 0.6929 - accuracy: 0.5243 - val_loss: 0.6923 - val_accuracy: 0.5402\n",
      "Epoch 2/100\n",
      "313/313 [==============================] - 8s 25ms/step - loss: 0.6896 - accuracy: 0.5680 - val_loss: 0.6845 - val_accuracy: 0.6606\n",
      "Epoch 3/100\n",
      "313/313 [==============================] - 8s 25ms/step - loss: 0.6588 - accuracy: 0.6737 - val_loss: 0.6183 - val_accuracy: 0.7120\n",
      "Epoch 4/100\n",
      "313/313 [==============================] - 8s 25ms/step - loss: 0.5788 - accuracy: 0.7240 - val_loss: 0.5527 - val_accuracy: 0.7362\n",
      "Epoch 5/100\n",
      "313/313 [==============================] - 8s 25ms/step - loss: 0.5375 - accuracy: 0.7443 - val_loss: 0.5263 - val_accuracy: 0.7496\n",
      "Epoch 6/100\n",
      "313/313 [==============================] - 8s 25ms/step - loss: 0.5166 - accuracy: 0.7551 - val_loss: 0.5060 - val_accuracy: 0.7564\n",
      "Epoch 7/100\n",
      "313/313 [==============================] - 8s 25ms/step - loss: 0.5000 - accuracy: 0.7676 - val_loss: 0.4924 - val_accuracy: 0.7698\n",
      "Epoch 8/100\n",
      "313/313 [==============================] - 8s 25ms/step - loss: 0.4898 - accuracy: 0.7726 - val_loss: 0.4809 - val_accuracy: 0.7720\n",
      "Epoch 9/100\n",
      "313/313 [==============================] - 8s 25ms/step - loss: 0.4775 - accuracy: 0.7800 - val_loss: 0.4748 - val_accuracy: 0.7770\n",
      "Epoch 10/100\n",
      "313/313 [==============================] - 8s 25ms/step - loss: 0.4701 - accuracy: 0.7814 - val_loss: 0.4667 - val_accuracy: 0.7818\n",
      "Epoch 11/100\n",
      "313/313 [==============================] - 8s 25ms/step - loss: 0.4618 - accuracy: 0.7886 - val_loss: 0.4617 - val_accuracy: 0.7838\n",
      "Epoch 12/100\n",
      "313/313 [==============================] - 8s 25ms/step - loss: 0.4589 - accuracy: 0.7873 - val_loss: 0.4571 - val_accuracy: 0.7842\n",
      "Epoch 13/100\n",
      "313/313 [==============================] - 8s 25ms/step - loss: 0.4559 - accuracy: 0.7894 - val_loss: 0.4534 - val_accuracy: 0.7888\n",
      "Epoch 14/100\n",
      "313/313 [==============================] - 8s 25ms/step - loss: 0.4510 - accuracy: 0.7928 - val_loss: 0.4518 - val_accuracy: 0.7888\n",
      "Epoch 15/100\n",
      "313/313 [==============================] - 8s 25ms/step - loss: 0.4480 - accuracy: 0.7944 - val_loss: 0.4479 - val_accuracy: 0.7906\n",
      "Epoch 16/100\n",
      "313/313 [==============================] - 8s 25ms/step - loss: 0.4459 - accuracy: 0.7942 - val_loss: 0.4467 - val_accuracy: 0.7932\n",
      "Epoch 17/100\n",
      "313/313 [==============================] - 8s 25ms/step - loss: 0.4415 - accuracy: 0.7973 - val_loss: 0.4439 - val_accuracy: 0.7942\n",
      "Epoch 18/100\n",
      "313/313 [==============================] - 8s 25ms/step - loss: 0.4379 - accuracy: 0.8026 - val_loss: 0.4440 - val_accuracy: 0.7938\n",
      "Epoch 19/100\n",
      "313/313 [==============================] - 8s 25ms/step - loss: 0.4386 - accuracy: 0.8007 - val_loss: 0.4415 - val_accuracy: 0.7950\n",
      "Epoch 20/100\n",
      "313/313 [==============================] - 8s 25ms/step - loss: 0.4359 - accuracy: 0.8002 - val_loss: 0.4409 - val_accuracy: 0.7930\n",
      "Epoch 21/100\n",
      "313/313 [==============================] - 8s 25ms/step - loss: 0.4348 - accuracy: 0.8006 - val_loss: 0.4389 - val_accuracy: 0.7946\n",
      "Epoch 22/100\n",
      "313/313 [==============================] - 8s 25ms/step - loss: 0.4331 - accuracy: 0.8012 - val_loss: 0.4384 - val_accuracy: 0.7996\n",
      "Epoch 23/100\n",
      "313/313 [==============================] - 8s 25ms/step - loss: 0.4315 - accuracy: 0.8015 - val_loss: 0.4370 - val_accuracy: 0.7982\n",
      "Epoch 24/100\n",
      "313/313 [==============================] - 8s 25ms/step - loss: 0.4304 - accuracy: 0.8030 - val_loss: 0.4358 - val_accuracy: 0.7978\n",
      "Epoch 25/100\n",
      "313/313 [==============================] - 8s 25ms/step - loss: 0.4287 - accuracy: 0.8043 - val_loss: 0.4381 - val_accuracy: 0.7926\n",
      "Epoch 26/100\n",
      "313/313 [==============================] - 8s 25ms/step - loss: 0.4273 - accuracy: 0.8043 - val_loss: 0.4345 - val_accuracy: 0.7980\n",
      "Epoch 27/100\n",
      "313/313 [==============================] - 8s 25ms/step - loss: 0.4247 - accuracy: 0.8061 - val_loss: 0.4336 - val_accuracy: 0.8016\n",
      "Epoch 28/100\n",
      "313/313 [==============================] - 8s 25ms/step - loss: 0.4246 - accuracy: 0.8068 - val_loss: 0.4339 - val_accuracy: 0.7974\n",
      "Epoch 29/100\n",
      "313/313 [==============================] - 8s 25ms/step - loss: 0.4244 - accuracy: 0.8086 - val_loss: 0.4325 - val_accuracy: 0.7996\n",
      "Epoch 30/100\n",
      "313/313 [==============================] - 8s 25ms/step - loss: 0.4236 - accuracy: 0.8069 - val_loss: 0.4344 - val_accuracy: 0.7980\n",
      "Epoch 31/100\n",
      "313/313 [==============================] - 8s 25ms/step - loss: 0.4226 - accuracy: 0.8110 - val_loss: 0.4353 - val_accuracy: 0.8040\n",
      "Epoch 32/100\n",
      "313/313 [==============================] - 8s 25ms/step - loss: 0.4217 - accuracy: 0.8039 - val_loss: 0.4318 - val_accuracy: 0.8000\n",
      "Epoch 33/100\n",
      "313/313 [==============================] - 8s 25ms/step - loss: 0.4193 - accuracy: 0.8090 - val_loss: 0.4332 - val_accuracy: 0.8012\n",
      "Epoch 34/100\n",
      "313/313 [==============================] - 8s 25ms/step - loss: 0.4205 - accuracy: 0.8082 - val_loss: 0.4317 - val_accuracy: 0.8006\n",
      "Epoch 35/100\n",
      "313/313 [==============================] - 8s 26ms/step - loss: 0.4191 - accuracy: 0.8102 - val_loss: 0.4297 - val_accuracy: 0.8062\n",
      "Epoch 36/100\n",
      "313/313 [==============================] - 8s 26ms/step - loss: 0.4176 - accuracy: 0.8087 - val_loss: 0.4299 - val_accuracy: 0.8018\n",
      "Epoch 37/100\n",
      "313/313 [==============================] - 8s 26ms/step - loss: 0.4183 - accuracy: 0.8075 - val_loss: 0.4304 - val_accuracy: 0.8014\n",
      "Epoch 38/100\n",
      "313/313 [==============================] - 8s 25ms/step - loss: 0.4181 - accuracy: 0.8095 - val_loss: 0.4299 - val_accuracy: 0.8056\n"
     ]
    }
   ],
   "source": [
    "rmsprop = keras.optimizers.RMSprop(learning_rate=1e-4)\n",
    "model3.compile(optimizer=rmsprop, loss='binary_crossentropy', metrics=['accuracy'])\n",
    "checkpoint_cb = keras.callbacks.ModelCheckpoint('best-2rnn-model.h5', save_best_only=True)\n",
    "early_stopping_cb = keras.callbacks.EarlyStopping(patience=3, restore_best_weights=True)\n",
    "history = model3.fit(train_seq, train_target, epochs=100, batch_size=64, validation_data=(val_seq, val_target), callbacks=[checkpoint_cb, early_stopping_cb])"
   ]
  },
  {
   "cell_type": "code",
   "execution_count": 21,
   "id": "e3d44b1a",
   "metadata": {},
   "outputs": [
    {
     "data": {
      "image/png": "[encoded data removed]",
      "text/plain": [
       "<Figure size 432x288 with 1 Axes>"
      ]
     },
     "metadata": {
      "needs_background": "light"
     },
     "output_type": "display_data"
    }
   ],
   "source": [
    "plt.plot(history.history['loss'])\n",
    "plt.plot(history.history['val_loss'])\n",
    "plt.xlabel('epoch')\n",
    "plt.ylabel('loss')\n",
    "plt.legend(['train', 'val'])\n",
    "plt.show()"
   ]
  },
  {
   "cell_type": "markdown",
   "id": "88bc6c36",
   "metadata": {},
   "source": [
    "# Training GRU Neural Network"
   ]
  },
  {
   "cell_type": "code",
   "execution_count": 23,
   "id": "4c1a3038",
   "metadata": {},
   "outputs": [],
   "source": [
    "model4 = keras.Sequential()\n",
    "model4.add(keras.layers.Embedding(500, 16, input_length=100))\n",
    "model4.add(keras.layers.GRU(8))\n",
    "model4.add(keras.layers.Dense(1, activation='sigmoid'))"
   ]
  },
  {
   "cell_type": "code",
   "execution_count": 24,
   "id": "395d5495",
   "metadata": {},
   "outputs": [
    {
     "name": "stdout",
     "output_type": "stream",
     "text": [
      "Model: \"sequential_4\"\n",
      "_________________________________________________________________\n",
      " Layer (type)                Output Shape              Param #   \n",
      "=================================================================\n",
      " embedding_4 (Embedding)     (None, 100, 16)           8000      \n",
      "                                                                 \n",
      " gru (GRU)                   (None, 8)                 624       \n",
      "                                                                 \n",
      " dense_3 (Dense)             (None, 1)                 9         \n",
      "                                                                 \n",
      "=================================================================\n",
      "Total params: 8,633\n",
      "Trainable params: 8,633\n",
      "Non-trainable params: 0\n",
      "_________________________________________________________________\n"
     ]
    }
   ],
   "source": [
    "model4.summary()"
   ]
  },
  {
   "cell_type": "code",
   "execution_count": 25,
   "id": "358bc921",
   "metadata": {},
   "outputs": [
    {
     "name": "stdout",
     "output_type": "stream",
     "text": [
      "Epoch 1/100\n",
      "313/313 [==============================] - 5s 15ms/step - loss: 0.6921 - accuracy: 0.5314 - val_loss: 0.6910 - val_accuracy: 0.5570\n",
      "Epoch 2/100\n",
      "313/313 [==============================] - 5s 14ms/step - loss: 0.6896 - accuracy: 0.5860 - val_loss: 0.6881 - val_accuracy: 0.5920\n",
      "Epoch 3/100\n",
      "313/313 [==============================] - 4s 14ms/step - loss: 0.6852 - accuracy: 0.6130 - val_loss: 0.6828 - val_accuracy: 0.6114\n",
      "Epoch 4/100\n",
      "313/313 [==============================] - 4s 14ms/step - loss: 0.6775 - accuracy: 0.6302 - val_loss: 0.6736 - val_accuracy: 0.6258\n",
      "Epoch 5/100\n",
      "313/313 [==============================] - 5s 14ms/step - loss: 0.6643 - accuracy: 0.6477 - val_loss: 0.6579 - val_accuracy: 0.6444\n",
      "Epoch 6/100\n",
      "313/313 [==============================] - 5s 15ms/step - loss: 0.6415 - accuracy: 0.6686 - val_loss: 0.6294 - val_accuracy: 0.6676\n",
      "Epoch 7/100\n",
      "313/313 [==============================] - 5s 15ms/step - loss: 0.5967 - accuracy: 0.7028 - val_loss: 0.5693 - val_accuracy: 0.7200\n",
      "Epoch 8/100\n",
      "313/313 [==============================] - 5s 15ms/step - loss: 0.5297 - accuracy: 0.7462 - val_loss: 0.5232 - val_accuracy: 0.7478\n",
      "Epoch 9/100\n",
      "313/313 [==============================] - 5s 15ms/step - loss: 0.5034 - accuracy: 0.7627 - val_loss: 0.5062 - val_accuracy: 0.7568\n",
      "Epoch 10/100\n",
      "313/313 [==============================] - 5s 17ms/step - loss: 0.4880 - accuracy: 0.7723 - val_loss: 0.4938 - val_accuracy: 0.7662\n",
      "Epoch 11/100\n",
      "313/313 [==============================] - 5s 15ms/step - loss: 0.4761 - accuracy: 0.7821 - val_loss: 0.4842 - val_accuracy: 0.7760\n",
      "Epoch 12/100\n",
      "313/313 [==============================] - 5s 15ms/step - loss: 0.4658 - accuracy: 0.7882 - val_loss: 0.4775 - val_accuracy: 0.7740\n",
      "Epoch 13/100\n",
      "313/313 [==============================] - 5s 15ms/step - loss: 0.4578 - accuracy: 0.7914 - val_loss: 0.4700 - val_accuracy: 0.7818\n",
      "Epoch 14/100\n",
      "313/313 [==============================] - 5s 15ms/step - loss: 0.4510 - accuracy: 0.7966 - val_loss: 0.4662 - val_accuracy: 0.7810\n",
      "Epoch 15/100\n",
      "313/313 [==============================] - 5s 15ms/step - loss: 0.4457 - accuracy: 0.7990 - val_loss: 0.4618 - val_accuracy: 0.7854\n",
      "Epoch 16/100\n",
      "313/313 [==============================] - 5s 15ms/step - loss: 0.4412 - accuracy: 0.8018 - val_loss: 0.4599 - val_accuracy: 0.7882\n",
      "Epoch 17/100\n",
      "313/313 [==============================] - 5s 15ms/step - loss: 0.4377 - accuracy: 0.8038 - val_loss: 0.4566 - val_accuracy: 0.7896\n",
      "Epoch 18/100\n",
      "313/313 [==============================] - 5s 15ms/step - loss: 0.4343 - accuracy: 0.8076 - val_loss: 0.4561 - val_accuracy: 0.7878\n",
      "Epoch 19/100\n",
      "313/313 [==============================] - 5s 15ms/step - loss: 0.4316 - accuracy: 0.8084 - val_loss: 0.4542 - val_accuracy: 0.7932\n",
      "Epoch 20/100\n",
      "313/313 [==============================] - 5s 15ms/step - loss: 0.4294 - accuracy: 0.8105 - val_loss: 0.4537 - val_accuracy: 0.7924\n",
      "Epoch 21/100\n",
      "313/313 [==============================] - 4s 14ms/step - loss: 0.4278 - accuracy: 0.8105 - val_loss: 0.4509 - val_accuracy: 0.7908\n",
      "Epoch 22/100\n",
      "313/313 [==============================] - 4s 14ms/step - loss: 0.4261 - accuracy: 0.8127 - val_loss: 0.4524 - val_accuracy: 0.7944\n",
      "Epoch 23/100\n",
      "313/313 [==============================] - 4s 14ms/step - loss: 0.4242 - accuracy: 0.8127 - val_loss: 0.4494 - val_accuracy: 0.7890\n",
      "Epoch 24/100\n",
      "313/313 [==============================] - 5s 15ms/step - loss: 0.4233 - accuracy: 0.8129 - val_loss: 0.4489 - val_accuracy: 0.7916\n",
      "Epoch 25/100\n",
      "313/313 [==============================] - 5s 15ms/step - loss: 0.4222 - accuracy: 0.8123 - val_loss: 0.4483 - val_accuracy: 0.7940\n",
      "Epoch 26/100\n",
      "313/313 [==============================] - 5s 15ms/step - loss: 0.4209 - accuracy: 0.8144 - val_loss: 0.4508 - val_accuracy: 0.7912\n",
      "Epoch 27/100\n",
      "313/313 [==============================] - 4s 14ms/step - loss: 0.4197 - accuracy: 0.8148 - val_loss: 0.4459 - val_accuracy: 0.7924\n",
      "Epoch 28/100\n",
      "313/313 [==============================] - 5s 14ms/step - loss: 0.4189 - accuracy: 0.8162 - val_loss: 0.4476 - val_accuracy: 0.7940\n",
      "Epoch 29/100\n",
      "313/313 [==============================] - 4s 14ms/step - loss: 0.4182 - accuracy: 0.8157 - val_loss: 0.4467 - val_accuracy: 0.7946\n",
      "Epoch 30/100\n",
      "313/313 [==============================] - 4s 14ms/step - loss: 0.4176 - accuracy: 0.8153 - val_loss: 0.4454 - val_accuracy: 0.7914\n",
      "Epoch 31/100\n",
      "313/313 [==============================] - 5s 15ms/step - loss: 0.4168 - accuracy: 0.8158 - val_loss: 0.4441 - val_accuracy: 0.7962\n",
      "Epoch 32/100\n",
      "313/313 [==============================] - 4s 14ms/step - loss: 0.4163 - accuracy: 0.8162 - val_loss: 0.4437 - val_accuracy: 0.7984\n",
      "Epoch 33/100\n",
      "313/313 [==============================] - 4s 14ms/step - loss: 0.4154 - accuracy: 0.8170 - val_loss: 0.4451 - val_accuracy: 0.7958\n",
      "Epoch 34/100\n",
      "313/313 [==============================] - 4s 14ms/step - loss: 0.4150 - accuracy: 0.8169 - val_loss: 0.4427 - val_accuracy: 0.7928\n",
      "Epoch 35/100\n",
      "313/313 [==============================] - 4s 14ms/step - loss: 0.4144 - accuracy: 0.8160 - val_loss: 0.4412 - val_accuracy: 0.7956\n",
      "Epoch 36/100\n",
      "313/313 [==============================] - 4s 14ms/step - loss: 0.4143 - accuracy: 0.8164 - val_loss: 0.4411 - val_accuracy: 0.7976\n",
      "Epoch 37/100\n",
      "313/313 [==============================] - 4s 14ms/step - loss: 0.4131 - accuracy: 0.8170 - val_loss: 0.4474 - val_accuracy: 0.7906\n",
      "Epoch 38/100\n",
      "313/313 [==============================] - 4s 14ms/step - loss: 0.4127 - accuracy: 0.8156 - val_loss: 0.4404 - val_accuracy: 0.7946\n",
      "Epoch 39/100\n",
      "313/313 [==============================] - 5s 15ms/step - loss: 0.4127 - accuracy: 0.8178 - val_loss: 0.4398 - val_accuracy: 0.7962\n",
      "Epoch 40/100\n",
      "313/313 [==============================] - 4s 14ms/step - loss: 0.4119 - accuracy: 0.8177 - val_loss: 0.4399 - val_accuracy: 0.7950\n",
      "Epoch 41/100\n",
      "313/313 [==============================] - 5s 15ms/step - loss: 0.4116 - accuracy: 0.8173 - val_loss: 0.4388 - val_accuracy: 0.7996\n",
      "Epoch 42/100\n",
      "313/313 [==============================] - 4s 14ms/step - loss: 0.4113 - accuracy: 0.8176 - val_loss: 0.4393 - val_accuracy: 0.7984\n",
      "Epoch 43/100\n",
      "313/313 [==============================] - 4s 14ms/step - loss: 0.4107 - accuracy: 0.8167 - val_loss: 0.4503 - val_accuracy: 0.7888\n",
      "Epoch 44/100\n",
      "313/313 [==============================] - 4s 14ms/step - loss: 0.4106 - accuracy: 0.8170 - val_loss: 0.4372 - val_accuracy: 0.7996\n",
      "Epoch 45/100\n",
      "313/313 [==============================] - 4s 14ms/step - loss: 0.4102 - accuracy: 0.8169 - val_loss: 0.4375 - val_accuracy: 0.7962\n",
      "Epoch 46/100\n",
      "313/313 [==============================] - 4s 14ms/step - loss: 0.4098 - accuracy: 0.8168 - val_loss: 0.4376 - val_accuracy: 0.7982\n",
      "Epoch 47/100\n",
      "313/313 [==============================] - 5s 14ms/step - loss: 0.4095 - accuracy: 0.8181 - val_loss: 0.4358 - val_accuracy: 0.7982\n",
      "Epoch 48/100\n",
      "313/313 [==============================] - 5s 14ms/step - loss: 0.4092 - accuracy: 0.8177 - val_loss: 0.4354 - val_accuracy: 0.8010\n",
      "Epoch 49/100\n",
      "313/313 [==============================] - 5s 14ms/step - loss: 0.4087 - accuracy: 0.8182 - val_loss: 0.4355 - val_accuracy: 0.7976\n",
      "Epoch 50/100\n",
      "313/313 [==============================] - 4s 14ms/step - loss: 0.4088 - accuracy: 0.8174 - val_loss: 0.4346 - val_accuracy: 0.8030\n",
      "Epoch 51/100\n",
      "313/313 [==============================] - 5s 15ms/step - loss: 0.4083 - accuracy: 0.8171 - val_loss: 0.4347 - val_accuracy: 0.8008\n",
      "Epoch 52/100\n",
      "313/313 [==============================] - 4s 14ms/step - loss: 0.4074 - accuracy: 0.8173 - val_loss: 0.4343 - val_accuracy: 0.8010\n",
      "Epoch 53/100\n",
      "313/313 [==============================] - 5s 14ms/step - loss: 0.4076 - accuracy: 0.8187 - val_loss: 0.4361 - val_accuracy: 0.7998\n",
      "Epoch 54/100\n",
      "313/313 [==============================] - 4s 14ms/step - loss: 0.4074 - accuracy: 0.8180 - val_loss: 0.4337 - val_accuracy: 0.8008\n",
      "Epoch 55/100\n",
      "313/313 [==============================] - 5s 15ms/step - loss: 0.4066 - accuracy: 0.8178 - val_loss: 0.4339 - val_accuracy: 0.8024\n",
      "Epoch 56/100\n",
      "313/313 [==============================] - 4s 14ms/step - loss: 0.4068 - accuracy: 0.8172 - val_loss: 0.4331 - val_accuracy: 0.8012\n",
      "Epoch 57/100\n"
     ]
    },
    {
     "name": "stdout",
     "output_type": "stream",
     "text": [
      "313/313 [==============================] - 5s 15ms/step - loss: 0.4063 - accuracy: 0.8171 - val_loss: 0.4351 - val_accuracy: 0.8002\n",
      "Epoch 58/100\n",
      "313/313 [==============================] - 4s 14ms/step - loss: 0.4065 - accuracy: 0.8183 - val_loss: 0.4326 - val_accuracy: 0.8024\n",
      "Epoch 59/100\n",
      "313/313 [==============================] - 4s 14ms/step - loss: 0.4056 - accuracy: 0.8183 - val_loss: 0.4329 - val_accuracy: 0.8000\n",
      "Epoch 60/100\n",
      "313/313 [==============================] - 4s 14ms/step - loss: 0.4058 - accuracy: 0.8184 - val_loss: 0.4320 - val_accuracy: 0.8034\n",
      "Epoch 61/100\n",
      "313/313 [==============================] - 4s 14ms/step - loss: 0.4054 - accuracy: 0.8174 - val_loss: 0.4317 - val_accuracy: 0.8034\n",
      "Epoch 62/100\n",
      "313/313 [==============================] - 5s 15ms/step - loss: 0.4047 - accuracy: 0.8189 - val_loss: 0.4320 - val_accuracy: 0.8020\n",
      "Epoch 63/100\n",
      "313/313 [==============================] - 4s 14ms/step - loss: 0.4046 - accuracy: 0.8188 - val_loss: 0.4357 - val_accuracy: 0.7964\n",
      "Epoch 64/100\n",
      "313/313 [==============================] - 5s 15ms/step - loss: 0.4048 - accuracy: 0.8191 - val_loss: 0.4301 - val_accuracy: 0.8048\n",
      "Epoch 65/100\n",
      "313/313 [==============================] - 4s 14ms/step - loss: 0.4043 - accuracy: 0.8185 - val_loss: 0.4368 - val_accuracy: 0.7966\n",
      "Epoch 66/100\n",
      "313/313 [==============================] - 4s 14ms/step - loss: 0.4042 - accuracy: 0.8181 - val_loss: 0.4296 - val_accuracy: 0.8038\n",
      "Epoch 67/100\n",
      "313/313 [==============================] - 4s 14ms/step - loss: 0.4036 - accuracy: 0.8183 - val_loss: 0.4324 - val_accuracy: 0.8004\n",
      "Epoch 68/100\n",
      "313/313 [==============================] - 4s 14ms/step - loss: 0.4033 - accuracy: 0.8188 - val_loss: 0.4297 - val_accuracy: 0.8054\n",
      "Epoch 69/100\n",
      "313/313 [==============================] - 4s 14ms/step - loss: 0.4031 - accuracy: 0.8202 - val_loss: 0.4307 - val_accuracy: 0.8018\n"
     ]
    }
   ],
   "source": [
    "rmsprop = keras.optimizers.RMSprop(learning_rate=1e-4)\n",
    "model4.compile(optimizer=rmsprop, loss='binary_crossentropy', metrics=['accuracy'])\n",
    "checkpoint_cb = keras.callbacks.ModelCheckpoint('best-gru-model.h5', save_best_only=True)\n",
    "early_stopping_cb = keras.callbacks.EarlyStopping(patience=3, restore_best_weights=True)\n",
    "history = model4.fit(train_seq, train_target, epochs=100, batch_size=64, validation_data=(val_seq, val_target), callbacks=[checkpoint_cb, early_stopping_cb])"
   ]
  },
  {
   "cell_type": "code",
   "execution_count": 26,
   "id": "b7e3339a",
   "metadata": {},
   "outputs": [
    {
     "data": {
      "image/png": "[encoded data removed]",
      "text/plain": [
       "<Figure size 432x288 with 1 Axes>"
      ]
     },
     "metadata": {
      "needs_background": "light"
     },
     "output_type": "display_data"
    }
   ],
   "source": [
    "plt.plot(history.history['loss'])\n",
    "plt.plot(history.history['val_loss'])\n",
    "plt.xlabel('epoch')\n",
    "plt.ylabel('loss')\n",
    "plt.legend(['train', 'val'])\n",
    "plt.show()"
   ]
  },
  {
   "cell_type": "code",
   "execution_count": 27,
   "id": "054dd715",
   "metadata": {},
   "outputs": [
    {
     "name": "stdout",
     "output_type": "stream",
     "text": [
      "782/782 [==============================] - 3s 4ms/step - loss: 0.4256 - accuracy: 0.8000\n"
     ]
    },
    {
     "data": {
      "text/plain": [
       "[0.42559289932250977, 0.800000011920929]"
      ]
     },
     "execution_count": 27,
     "metadata": {},
     "output_type": "execute_result"
    }
   ],
   "source": [
    "test_seq = pad_sequences(test_input, maxlen=100)\n",
    "rnn_model = keras.models.load_model('best-2rnn-model.h5')\n",
    "rnn_model.evaluate(test_seq, test_target)"
   ]
  },
  {
   "cell_type": "code",
   "execution_count": null,
   "id": "690b0491",
   "metadata": {},
   "outputs": [],
   "source": []
  }
 ],
 "metadata": {
  "kernelspec": {
   "display_name": "Python 3 (ipykernel)",
   "language": "python",
   "name": "python3"
  },
  "language_info": {
   "codemirror_mode": {
    "name": "ipython",
    "version": 3
   },
   "file_extension": ".py",
   "mimetype": "text/x-python",
   "name": "python",
   "nbconvert_exporter": "python",
   "pygments_lexer": "ipython3",
   "version": "3.9.12"
  }
 },
 "nbformat": 4,
 "nbformat_minor": 5
}
